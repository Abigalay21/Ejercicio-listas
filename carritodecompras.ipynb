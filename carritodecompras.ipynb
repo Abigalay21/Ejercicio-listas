{
 "cells": [
  {
   "cell_type": "markdown",
   "id": "7883891d-a3be-4992-b9d8-0780388960c9",
   "metadata": {},
   "source": [
    "# Prototipo carrito de compras"
   ]
  },
  {
   "cell_type": "code",
   "execution_count": null,
   "id": "f43fc2da-ee20-415b-9320-8221685ed29d",
   "metadata": {},
   "outputs": [],
   "source": [
    "print(\"carrito de compras\\n\")\n",
    "print(\"\"\"  \n",
    "productos disponibles:  \n",
    "1.- pan  \n",
    "2.- jamón  \n",
    "3.- crema  \n",
    "4.- mayonesa  \n",
    "5.- lechuga  \n",
    "\"\"\")\n",
    "print(\"ingresa una lista con los productos en este formato: [[cantidad,producto]]\")\n",
    "print(\"por ejemplo: [[1,1], [3,2]] significa 1 pan y 3 jamón\")\n",
    "my_shopping_cart = eval(input())\n",
    "print(\"\\n\\ntu carrito es:\")\n",
    "if type(my_shopping_cart) == list:\n",
    "    if type(my_shopping_cart[0]) == list:\n",
    "        for element in my_shopping_cart:\n",
    "            product = \"\"\n",
    "            if element[1] == 1:\n",
    "                product = \"pan\"\n",
    "            if element[1] == 2:\n",
    "                product = \"jamón\"\n",
    "            if element[1] == 3:\n",
    "                product = \"crema\"\n",
    "            if element[1] == 4:\n",
    "                product = \"mayonesa\"\n",
    "            if element[1] == 5:\n",
    "                product = \"lechuga\"\n",
    "            print(\"{} {}\".format(element[0], product))\n",
    "    else:\n",
    "        print(\"formato incorrecto, debes ingresar una lista de listas\")\n",
    "else:\n",
    "    print(\"formato incorrecto, debes ingresar una lista de listas\")\n"
   ]
  }
 ],
 "metadata": {
  "kernelspec": {
   "display_name": "Python 3 (ipykernel)",
   "language": "python",
   "name": "python3"
  },
  "language_info": {
   "codemirror_mode": {
    "name": "ipython",
    "version": 3
   },
   "file_extension": ".py",
   "mimetype": "text/x-python",
   "name": "python",
   "nbconvert_exporter": "python",
   "pygments_lexer": "ipython3",
   "version": "3.12.5"
  }
 },
 "nbformat": 4,
 "nbformat_minor": 5
}
